{
  "nbformat": 4,
  "nbformat_minor": 0,
  "metadata": {
    "colab": {
      "name": "Fibonacci",
      "provenance": [],
      "authorship_tag": "ABX9TyOSnBZ7tS39enymtdRtaw6N",
      "include_colab_link": true
    },
    "kernelspec": {
      "name": "python3",
      "display_name": "Python 3"
    },
    "language_info": {
      "name": "python"
    }
  },
  "cells": [
    {
      "cell_type": "markdown",
      "metadata": {
        "id": "view-in-github",
        "colab_type": "text"
      },
      "source": [
        "<a href=\"https://colab.research.google.com/github/dilaraozcerit/python-project/blob/main/Fibonacci.ipynb\" target=\"_parent\"><img src=\"https://colab.research.google.com/assets/colab-badge.svg\" alt=\"Open In Colab\"/></a>"
      ]
    },
    {
      "cell_type": "code",
      "metadata": {
        "id": "0tT2IUsTF_Kj"
      },
      "source": [
        "def Fibonacci (n):\n",
        "  fib = [0,1]\n",
        "  for i in range(2, n):\n",
        "    fib.append(fib[i-1] + fib[i-2])\n",
        "    if fib[-1] == 55:\n",
        "      print(fib.index(55), \", you've reached the target number!\")\n",
        "      break\n",
        "  return fib\n",
        "print(Fibonacci(15))"
      ],
      "execution_count": null,
      "outputs": []
    }
  ]
}