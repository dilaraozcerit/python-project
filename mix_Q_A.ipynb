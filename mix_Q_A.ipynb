{
  "nbformat": 4,
  "nbformat_minor": 0,
  "metadata": {
    "colab": {
      "name": "mix Q-A",
      "provenance": [],
      "include_colab_link": true
    },
    "kernelspec": {
      "name": "python3",
      "display_name": "Python 3"
    },
    "language_info": {
      "name": "python"
    }
  },
  "cells": [
    {
      "cell_type": "markdown",
      "metadata": {
        "id": "view-in-github",
        "colab_type": "text"
      },
      "source": [
        "<a href=\"https://colab.research.google.com/github/dilaraozcerit/python-project/blob/main/mix_Q_A.ipynb\" target=\"_parent\"><img src=\"https://colab.research.google.com/assets/colab-badge.svg\" alt=\"Open In Colab\"/></a>"
      ]
    },
    {
      "cell_type": "markdown",
      "metadata": {
        "id": "r9B45NdlOz1t"
      },
      "source": [
        "```\n",
        "1 Sansürlü kelimeyi düzeltelim\n",
        "print(sansür(\"pyth*n\", \"o\")) ---> python\n",
        "print(sansür(\"*r*b*m* p*rk *tt*m\",\"aaaıaei\"))  --> arabamı park ettim\n",
        "```\n",
        "\n"
      ]
    },
    {
      "cell_type": "code",
      "metadata": {
        "colab": {
          "base_uri": "https://localhost:8080/"
        },
        "id": "VTYztkLQTTyu",
        "outputId": "e00ed68e-4566-41ea-bbef-0a90193f7736"
      },
      "source": [
        "def sansür(sansürlü, sesli):\n",
        "  n = 0\n",
        "  for i in sansürlü:\n",
        "    if i==\"*\":\n",
        "      sansürlü=sansürlü.replace(\"*\", sesli[n], 1) #1 girdik çünkü default olarak ilk string olan 'a' yı alır. \"arabama park attam\" olur.\n",
        "      n += 1\n",
        "  return sansürlü\n",
        "\n",
        "print(sansür(\"pyth*n\", \"o\"))\n",
        "print(sansür(\"*r*b*m* p*rk *tt*m\",\"aaaıaei\"))\n"
      ],
      "execution_count": null,
      "outputs": [
        {
          "output_type": "stream",
          "text": [
            "python\n",
            "arabamı park ettim\n"
          ],
          "name": "stdout"
        }
      ]
    },
    {
      "cell_type": "markdown",
      "metadata": {
        "id": "Q5AiEAoiPHH-"
      },
      "source": [
        "```\n",
        "2. Girdisi string olan ifadenin içerisindeki harflerin türkçe alfabesindeki yerlerini bulup, hepsinin değerlerini toplayıp sonuç çiftse True tekse False yazdıran bir fonksiyon yazınız.\n",
        "print(kelime_cift_mi(\"Bilgisayar\")) -->True\n",
        "```\n",
        "\n"
      ]
    },
    {
      "cell_type": "code",
      "metadata": {
        "id": "0QHyxxspgfu6",
        "colab": {
          "base_uri": "https://localhost:8080/"
        },
        "outputId": "2069de30-5142-4a5b-9083-b784f30b47e1"
      },
      "source": [
        "def kelime_cift_mi(cümle):\n",
        "  kucuk = \" abcdefgğıijklmnoöprsştuüvyz\" #boşluk bıraktık ki a'yı \"1\" olarak algılasın\n",
        "  toplam = 0\n",
        "  for i in cümle.lower():\n",
        "    if i in kucuk:\n",
        "      toplam += kucuk.index(i) \n",
        "  if toplam % 2 == 0:\n",
        "    return True\n",
        "  else:\n",
        "    return False\n",
        "\n",
        "print(kelime_cift_mi(\"bilgisayar\"))\n",
        "\n"
      ],
      "execution_count": null,
      "outputs": [
        {
          "output_type": "stream",
          "text": [
            "False\n"
          ],
          "name": "stdout"
        }
      ]
    },
    {
      "cell_type": "markdown",
      "metadata": {
        "id": "yUnkroayPGvn"
      },
      "source": [
        "\n",
        "```\n",
        " 3. Write a program to prompt the user for hours and rate per hour using input to compute gross pay. Pay should be the normal rate for hours up to 40 and time-and-a-half for the hourly rate for all hours worked above 40 hours. Put the logic to do the computation of pay in a function called computepay() and use the function to do the computation. The function should return a value. Use 45 hours and a rate of 10.50 per hour to test the program (the pay should be 498.75). You should use input to read a string and float() to convert the string to a number. Do not worry about error checking the user input unless you want to - you can assume the user types numbers properly. Do not name your variable sum or use the sum() function\n",
        "\n",
        "```\n",
        "\n"
      ]
    },
    {
      "cell_type": "code",
      "metadata": {
        "colab": {
          "base_uri": "https://localhost:8080/"
        },
        "id": "XXqm1B7WrMNv",
        "outputId": "1d4ddef0-416a-46a5-eca0-9b791d1333ef"
      },
      "source": [
        "def computer_pay(h, r):\n",
        "  if h > 40:\n",
        "    p = 40*r + (h-40) * r * 1.5\n",
        "  else:\n",
        "    p = h * r\n",
        "  return p \n",
        "computer_pay(45, 2)"
      ],
      "execution_count": null,
      "outputs": [
        {
          "output_type": "execute_result",
          "data": {
            "text/plain": [
              "95.0"
            ]
          },
          "metadata": {
            "tags": []
          },
          "execution_count": 12
        }
      ]
    },
    {
      "cell_type": "markdown",
      "metadata": {
        "id": "agUSmN0iPGqB"
      },
      "source": [
        "```\n",
        "4. Sayının faktöriyelini hesaplayan fonksiyon yazalım.\n",
        "```\n",
        "\n",
        "\n"
      ]
    },
    {
      "cell_type": "code",
      "metadata": {
        "colab": {
          "base_uri": "https://localhost:8080/"
        },
        "id": "lh-3jpfmrOeH",
        "outputId": "ac36c366-8538-46cf-c4b8-c745a852b647"
      },
      "source": [
        "def faktoriyel (sayı):      # while ile olan çözüm\n",
        "  sonuc = 1\n",
        "  i = 1\n",
        "  while i < sayı + 1:\n",
        "    sonuc *= i\n",
        "    i += 1\n",
        "  return sonuc\n",
        "\n",
        "faktoriyel(5)"
      ],
      "execution_count": null,
      "outputs": [
        {
          "output_type": "execute_result",
          "data": {
            "text/plain": [
              "120"
            ]
          },
          "metadata": {
            "tags": []
          },
          "execution_count": 19
        }
      ]
    },
    {
      "cell_type": "code",
      "metadata": {
        "colab": {
          "base_uri": "https://localhost:8080/"
        },
        "id": "a-fUGsJQs8jI",
        "outputId": "d7fe3e5d-8767-4478-e7a4-e44b564f56c2"
      },
      "source": [
        "def faktoriyel (sayı): \n",
        "   sonuc = 1\n",
        "   for i in range(1, sayı + 1):\n",
        "     sonuc *= i\n",
        "   return sonuc\n",
        "\n",
        "faktoriyel(5)"
      ],
      "execution_count": null,
      "outputs": [
        {
          "output_type": "execute_result",
          "data": {
            "text/plain": [
              "120"
            ]
          },
          "metadata": {
            "tags": []
          },
          "execution_count": 22
        }
      ]
    },
    {
      "cell_type": "markdown",
      "metadata": {
        "id": "tPWXxyrEPGmw"
      },
      "source": [
        "```\n",
        "5. Sayı ve string paramestresi alan, sayıyı geriye doğru aralarında * olacak şekilde yazdıran, sonuna verilen stringi büyük harflerle ekleyen ve en sona ! işareti koyan bir fonksiyon yazalım\n",
        " ÖRNEK\n",
        "geri_say(3,\"go\")--> \"3*2*1*GO!\"**kalın metin**\n",
        "```\n",
        "\n"
      ]
    },
    {
      "cell_type": "code",
      "metadata": {
        "colab": {
          "base_uri": "https://localhost:8080/",
          "height": 36
        },
        "id": "HPXAURtquASE",
        "outputId": "8537e499-ed89-4887-88a6-00bea547530e"
      },
      "source": [
        "def geri_say(n, yazi):\n",
        "  sonuc = ''\n",
        "  for i in range(n, 0, -1):\n",
        "    sonuc += str(i) + '*'\n",
        "  sonuc += yazi.upper() + '!'\n",
        "  return sonuc\n",
        "\n",
        "geri_say(3,\"go\")"
      ],
      "execution_count": null,
      "outputs": [
        {
          "output_type": "execute_result",
          "data": {
            "application/vnd.google.colaboratory.intrinsic+json": {
              "type": "string"
            },
            "text/plain": [
              "'3*2*1*GO!'"
            ]
          },
          "metadata": {
            "tags": []
          },
          "execution_count": 25
        }
      ]
    },
    {
      "cell_type": "markdown",
      "metadata": {
        "id": "X0np6sCFPGjA"
      },
      "source": [
        "```\n",
        "6. Arif ve Raife listede yanyana duruyorlasa True döndüren durmuyorlarsa False döndüren bir fonksiyon yazalım.\n",
        "print(yan_yana_mı([\"Arif\",\"Raife\",\"Nihal\"])) --> True\n",
        "print(yan_yana_mı([\"Arif\",\"Nihal\",\"Raife\"])) --> False\n",
        "```\n",
        "\n"
      ]
    },
    {
      "cell_type": "code",
      "metadata": {
        "colab": {
          "base_uri": "https://localhost:8080/"
        },
        "id": "G_mY7BpivFQm",
        "outputId": "ffc6ee34-790f-4cab-9cf9-38a836c47770"
      },
      "source": [
        "def yan_yana_mi(liste):\n",
        "  for i in liste:\n",
        "    if liste.index('Arif') + 1 == liste.index('Raife') or liste.index('Arif') + 1 == liste.index('Raife') +1:\n",
        "      return True\n",
        "    else:\n",
        "      return False\n",
        "\n",
        "\n",
        "print(yan_yana_mi([\"Arif\",\"Raife\",\"Nihal\"]))\n",
        "print(yan_yana_mi([\"Arif\",\"Nihal\",\"Raife\"]))\n"
      ],
      "execution_count": null,
      "outputs": [
        {
          "output_type": "stream",
          "text": [
            "True\n",
            "False\n"
          ],
          "name": "stdout"
        }
      ]
    },
    {
      "cell_type": "markdown",
      "metadata": {
        "id": "o8RAQ9ZpPGcN"
      },
      "source": [
        "```\n",
        "7. Listedeki her elemanı kendi indexi ile çarpıp toplamı veren bir fonksiyon yazalım.\n",
        "print(carpip_topla([1,2,3,4,5,6,7,8,9,10])) --> 330\n",
        "```\n",
        "\n",
        "\n",
        "\n"
      ]
    },
    {
      "cell_type": "code",
      "metadata": {
        "colab": {
          "base_uri": "https://localhost:8080/"
        },
        "id": "iLqrm0HzwBdn",
        "outputId": "741a3441-bb06-48be-97a8-0712f5950372"
      },
      "source": [
        "def carpip_topla(liste):\n",
        "  toplam = 0\n",
        "  for i in range(len(liste)):\n",
        "    toplam += i * liste [i]\n",
        "  return toplam \n",
        "carpip_topla([1,2,3])"
      ],
      "execution_count": null,
      "outputs": [
        {
          "output_type": "execute_result",
          "data": {
            "text/plain": [
              "8"
            ]
          },
          "metadata": {
            "tags": []
          },
          "execution_count": 34
        }
      ]
    },
    {
      "cell_type": "code",
      "metadata": {
        "colab": {
          "base_uri": "https://localhost:8080/",
          "height": 364
        },
        "id": "fQYE-oaLxav7",
        "outputId": "545bdb3a-bfa0-4642-99d7-d3181b7e6b5f"
      },
      "source": [
        "def carpip_topla(liste):\n",
        "  toplam = 0\n",
        "  for i in range(len(liste)):    # hatalı çözümü\n",
        "    toplam += i * liste.index(i)\n",
        "  return toplam\n",
        "carpip_topla([1,1])\n",
        "\n",
        "print(carpip_topla([1,2,3,4,5,6,7,8,9,10]))"
      ],
      "execution_count": null,
      "outputs": [
        {
          "output_type": "error",
          "ename": "ValueError",
          "evalue": "ignored",
          "traceback": [
            "\u001b[0;31m---------------------------------------------------------------------------\u001b[0m",
            "\u001b[0;31mValueError\u001b[0m                                Traceback (most recent call last)",
            "\u001b[0;32m<ipython-input-30-500def0273a1>\u001b[0m in \u001b[0;36m<module>\u001b[0;34m()\u001b[0m\n\u001b[1;32m      4\u001b[0m     \u001b[0mtoplam\u001b[0m \u001b[0;34m+=\u001b[0m \u001b[0mi\u001b[0m \u001b[0;34m*\u001b[0m \u001b[0mliste\u001b[0m\u001b[0;34m.\u001b[0m\u001b[0mindex\u001b[0m\u001b[0;34m(\u001b[0m\u001b[0mi\u001b[0m\u001b[0;34m)\u001b[0m\u001b[0;34m\u001b[0m\u001b[0;34m\u001b[0m\u001b[0m\n\u001b[1;32m      5\u001b[0m   \u001b[0;32mreturn\u001b[0m \u001b[0mtoplam\u001b[0m\u001b[0;34m\u001b[0m\u001b[0;34m\u001b[0m\u001b[0m\n\u001b[0;32m----> 6\u001b[0;31m \u001b[0mcarpip_topla\u001b[0m\u001b[0;34m(\u001b[0m\u001b[0;34m[\u001b[0m\u001b[0;36m1\u001b[0m\u001b[0;34m,\u001b[0m\u001b[0;36m1\u001b[0m\u001b[0;34m]\u001b[0m\u001b[0;34m)\u001b[0m\u001b[0;34m\u001b[0m\u001b[0;34m\u001b[0m\u001b[0m\n\u001b[0m\u001b[1;32m      7\u001b[0m \u001b[0;34m\u001b[0m\u001b[0m\n\u001b[1;32m      8\u001b[0m \u001b[0mprint\u001b[0m\u001b[0;34m(\u001b[0m\u001b[0mcarpip_topla\u001b[0m\u001b[0;34m(\u001b[0m\u001b[0;34m[\u001b[0m\u001b[0;36m1\u001b[0m\u001b[0;34m,\u001b[0m\u001b[0;36m2\u001b[0m\u001b[0;34m,\u001b[0m\u001b[0;36m3\u001b[0m\u001b[0;34m,\u001b[0m\u001b[0;36m4\u001b[0m\u001b[0;34m,\u001b[0m\u001b[0;36m5\u001b[0m\u001b[0;34m,\u001b[0m\u001b[0;36m6\u001b[0m\u001b[0;34m,\u001b[0m\u001b[0;36m7\u001b[0m\u001b[0;34m,\u001b[0m\u001b[0;36m8\u001b[0m\u001b[0;34m,\u001b[0m\u001b[0;36m9\u001b[0m\u001b[0;34m,\u001b[0m\u001b[0;36m10\u001b[0m\u001b[0;34m]\u001b[0m\u001b[0;34m)\u001b[0m\u001b[0;34m)\u001b[0m\u001b[0;34m\u001b[0m\u001b[0;34m\u001b[0m\u001b[0m\n",
            "\u001b[0;32m<ipython-input-30-500def0273a1>\u001b[0m in \u001b[0;36mcarpip_topla\u001b[0;34m(liste)\u001b[0m\n\u001b[1;32m      2\u001b[0m   \u001b[0mtoplam\u001b[0m \u001b[0;34m=\u001b[0m \u001b[0;36m0\u001b[0m\u001b[0;34m\u001b[0m\u001b[0;34m\u001b[0m\u001b[0m\n\u001b[1;32m      3\u001b[0m   \u001b[0;32mfor\u001b[0m \u001b[0mi\u001b[0m \u001b[0;32min\u001b[0m \u001b[0mrange\u001b[0m\u001b[0;34m(\u001b[0m\u001b[0mlen\u001b[0m\u001b[0;34m(\u001b[0m\u001b[0mliste\u001b[0m\u001b[0;34m)\u001b[0m\u001b[0;34m)\u001b[0m\u001b[0;34m:\u001b[0m    \u001b[0;31m# hatalı çözümü\u001b[0m\u001b[0;34m\u001b[0m\u001b[0;34m\u001b[0m\u001b[0m\n\u001b[0;32m----> 4\u001b[0;31m     \u001b[0mtoplam\u001b[0m \u001b[0;34m+=\u001b[0m \u001b[0mi\u001b[0m \u001b[0;34m*\u001b[0m \u001b[0mliste\u001b[0m\u001b[0;34m.\u001b[0m\u001b[0mindex\u001b[0m\u001b[0;34m(\u001b[0m\u001b[0mi\u001b[0m\u001b[0;34m)\u001b[0m\u001b[0;34m\u001b[0m\u001b[0;34m\u001b[0m\u001b[0m\n\u001b[0m\u001b[1;32m      5\u001b[0m   \u001b[0;32mreturn\u001b[0m \u001b[0mtoplam\u001b[0m\u001b[0;34m\u001b[0m\u001b[0;34m\u001b[0m\u001b[0m\n\u001b[1;32m      6\u001b[0m \u001b[0mcarpip_topla\u001b[0m\u001b[0;34m(\u001b[0m\u001b[0;34m[\u001b[0m\u001b[0;36m1\u001b[0m\u001b[0;34m,\u001b[0m\u001b[0;36m1\u001b[0m\u001b[0;34m]\u001b[0m\u001b[0;34m)\u001b[0m\u001b[0;34m\u001b[0m\u001b[0;34m\u001b[0m\u001b[0m\n",
            "\u001b[0;31mValueError\u001b[0m: 0 is not in list"
          ]
        }
      ]
    },
    {
      "cell_type": "markdown",
      "metadata": {
        "id": "6eFw-Cy2PGYg"
      },
      "source": [
        "```\n",
        "8. Cümledeki sayı ve harflerin sayısını bulan bir fonksiyon yazalım\n",
        "print(harf_sayi_sayisi(\"10'a kadar saysam ve sonrasında hayat bayram olsa.\")) --> Harfler: 39, Sayılar: 2\n",
        "\n",
        "```\n",
        "\n",
        "\n"
      ]
    },
    {
      "cell_type": "code",
      "metadata": {
        "colab": {
          "base_uri": "https://localhost:8080/"
        },
        "id": "SkQHio3NwCZa",
        "outputId": "7abe1fdc-ea0a-44c3-a1a0-a32c28a548ab"
      },
      "source": [
        "def harf_sayi_sayisi(cümle):\n",
        "  h = 0\n",
        "  s = 0\n",
        "  d = 0\n",
        "  for i in cümle:\n",
        "    if i.isalpha():\n",
        "      h += 1\n",
        "    elif i.isdigit():\n",
        "      s += 1\n",
        "    else:\n",
        "      d += 1\n",
        "  return f\"Harfler: {h}, sayılar : {s}, diğerleri {d} \" #boşluklar\n",
        "print(harf_sayi_sayisi(\"10'a kadar saysam ve sonrasında hayat bayram olsa.\"))"
      ],
      "execution_count": null,
      "outputs": [
        {
          "output_type": "stream",
          "text": [
            "Harfler: 39, sayılar : 2, diğerleri 9 \n"
          ],
          "name": "stdout"
        }
      ]
    },
    {
      "cell_type": "markdown",
      "metadata": {
        "id": "txt134wgPGVZ"
      },
      "source": [
        "```\n",
        "9.Stringin içindeki en büyük ve en küçük sayıyı veren fonksiyon yazalım.\n",
        "print(büyük_kücük(\"3 2 4 6 -1 12\")) --> 12 -1\n",
        "```\n",
        "\n"
      ]
    },
    {
      "cell_type": "code",
      "metadata": {
        "colab": {
          "base_uri": "https://localhost:8080/"
        },
        "id": "K_h5inrHwDOJ",
        "outputId": "231258a9-9d58-4a9f-c2c6-65381d96d2dc"
      },
      "source": [
        "def büyük_kücük(deger):\n",
        "  liste = list(map(int, deger.split()))\n",
        "  return f\"{max(liste)} {min(liste)}\"\n",
        "\n",
        "print(büyük_kücük(\"3 2 4 6 -1 12\"))"
      ],
      "execution_count": null,
      "outputs": [
        {
          "output_type": "stream",
          "text": [
            "12 -1\n"
          ],
          "name": "stdout"
        }
      ]
    },
    {
      "cell_type": "markdown",
      "metadata": {
        "id": "RhGJCDaNPGIS"
      },
      "source": [
        "```\n",
        "10. Harfler ve boşluklardan oluşan stringin içindeki kelime nin uzunluğu beş veya dah fazla ise o kelimeyi ters çeviren bir fonksiyon yazalım.\n",
        "print(ters_döndür(\"Ah bir data scientist olabilsem:)\")) --> Ah bir data tsitneics ):meslibalo\n",
        "```\n",
        "\n"
      ]
    },
    {
      "cell_type": "code",
      "metadata": {
        "colab": {
          "base_uri": "https://localhost:8080/"
        },
        "id": "nN3VBlorxM2P",
        "outputId": "d47faebb-07ae-42c6-af35-8dbc5f1314bc"
      },
      "source": [
        "def ters_döndür(yazi):\n",
        "  liste = yazi.split()\n",
        "  yeni = \" \"\n",
        "  for i in liste:\n",
        "    if len(i) >= 5:\n",
        "      yeni += i [::-1] + ' '\n",
        "    else:\n",
        "      yeni += i + ' '\n",
        "  return yeni.strip()\n",
        "      \n",
        "print(ters_döndür(\"Ah bir data scientist olabilsem:)\"))"
      ],
      "execution_count": null,
      "outputs": [
        {
          "output_type": "stream",
          "text": [
            "Ah bir data tsitneics ):meslibalo\n"
          ],
          "name": "stdout"
        }
      ]
    },
    {
      "cell_type": "code",
      "metadata": {
        "id": "4ZyC5Uu0xM5R"
      },
      "source": [
        ""
      ],
      "execution_count": null,
      "outputs": []
    }
  ]
}