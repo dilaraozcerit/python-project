{
  "nbformat": 4,
  "nbformat_minor": 0,
  "metadata": {
    "colab": {
      "name": "Letters Count",
      "provenance": [],
      "authorship_tag": "ABX9TyP3Y5xfV5PsQBLO/PLg2tiF",
      "include_colab_link": true
    },
    "kernelspec": {
      "name": "python3",
      "display_name": "Python 3"
    },
    "language_info": {
      "name": "python"
    }
  },
  "cells": [
    {
      "cell_type": "markdown",
      "metadata": {
        "id": "view-in-github",
        "colab_type": "text"
      },
      "source": [
        "<a href=\"https://colab.research.google.com/github/dilaraozcerit/python-project/blob/main/Letters_Count.ipynb\" target=\"_parent\"><img src=\"https://colab.research.google.com/assets/colab-badge.svg\" alt=\"Open In Colab\"/></a>"
      ]
    },
    {
      "cell_type": "code",
      "metadata": {
        "id": "9nHzGKtJJ29u"
      },
      "source": [
        "def counter(n):\n",
        "  all_dict = {}\n",
        "\n",
        "  for i in n:\n",
        "    all_dict[i] = n.count(i)\n",
        "  return all_dict\n",
        "\n",
        "counter(\"hippo runs to us!\")"
      ],
      "execution_count": null,
      "outputs": []
    }
  ]
}