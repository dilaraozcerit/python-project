{
  "nbformat": 4,
  "nbformat_minor": 0,
  "metadata": {
    "kernelspec": {
      "display_name": "Python 3",
      "language": "python",
      "name": "python3"
    },
    "language_info": {
      "codemirror_mode": {
        "name": "ipython",
        "version": 3
      },
      "file_extension": ".py",
      "mimetype": "text/x-python",
      "name": "python",
      "nbconvert_exporter": "python",
      "pygments_lexer": "ipython3",
      "version": "3.7.3"
    },
    "colab": {
      "name": "python_workshop_3(teacher) (1).ipynb",
      "provenance": [],
      "include_colab_link": true
    }
  },
  "cells": [
    {
      "cell_type": "markdown",
      "metadata": {
        "id": "view-in-github",
        "colab_type": "text"
      },
      "source": [
        "<a href=\"https://colab.research.google.com/github/dilaraozcerit/python-project/blob/main/python_workshop_3(teacher)_(1).ipynb\" target=\"_parent\"><img src=\"https://colab.research.google.com/assets/colab-badge.svg\" alt=\"Open In Colab\"/></a>"
      ]
    },
    {
      "cell_type": "markdown",
      "metadata": {
        "id": "ArQ8NQkQHUEs"
      },
      "source": [
        "<center><img src=\"https://github.com/aaron-clarusway/fullstack/blob/master/itf-logo.png?raw=true\"  alt=\"alt text\" width=\"200\"/></center>\n",
        "<br>\n",
        "<h1><p style=\"text-align: center; color:darkblue\">Python Basic</p><h1>\n",
        "<center><h1>Workshop - 2</h1></center>\n",
        "<p><img align=\"right\"\n",
        "  src=\"https://secure.meetupstatic.com/photos/event/3/1/b/9/600_488352729.jpeg\"  width=\"15px\"></p>\n",
        "<br>\n",
        "\n",
        "\n",
        "# Subject: Collections - Control Flow Statements"
      ]
    },
    {
      "cell_type": "markdown",
      "metadata": {
        "id": "sKs_BlPcHUEy"
      },
      "source": [
        "## Coding Challenge-1 : Find the Largest Number\n",
        "\n",
        "Purpose of the this coding challenge is to solve a simple sorting problem in Python.\n",
        "\n",
        "### Learning Outcomes\n",
        "\n",
        "At the end of the this coding challenge, students will be able to;\n",
        "\n",
        "- get a basic understanding of sorting algorithms.\n",
        "- demonstrate their knowledge of lists in python\n",
        "- implement loops to solve the problems in python\n",
        "- get a better understanding of computational thinking concepts\n",
        "\n",
        "### Problem Statement\n",
        "  \n",
        "- Write a python code that finds the largest number among the ``n`` numbers given by the user as input.\n",
        "\n",
        "- First, take `n` from the user, then take `n` numbers one by one and select-print the largest one.\n",
        "\n",
        "- It is forbidden to use ``max()`` function.  \n",
        "\n",
        "- Indicate which computational thinking concepts have you used.\n",
        "\n",
        "- Example for user inputs and respective outputs\n",
        "\n",
        "```text\n",
        "Input                Output\n",
        "---------------:     -------------------------:\n",
        "n = 5, 1 2 3 4 5     The largest number is:  5\n",
        "n = 3, 67 85 19      The largest number is:  85\n",
        "```"
      ]
    },
    {
      "cell_type": "markdown",
      "metadata": {
        "id": "LAyhLeUJHUE0"
      },
      "source": [
        "### Solution :"
      ]
    },
    {
      "cell_type": "code",
      "metadata": {
        "id": "xzCYBnN2HUE2",
        "colab": {
          "base_uri": "https://localhost:8080/"
        },
        "outputId": "18a63b23-23db-4765-d446-c93a87bc77c5"
      },
      "source": [
        "count=0\n",
        "array=[]\n",
        "size = int(input(\"How many numbers will you enter? \"))\n",
        "while count < size:\n",
        "    number= int(input('Please enter the number: '))\n",
        "    array.append(number)\n",
        "    count = count +1\n",
        "\n",
        "largest = array[0]\n",
        "for i in array:\n",
        "    if i > largest:\n",
        "        largest = i\n",
        "\n",
        "print(\"The largest number is : \", largest)"
      ],
      "execution_count": null,
      "outputs": [
        {
          "output_type": "stream",
          "text": [
            "How many numbers will you enter? 5\n",
            "Please enter the number: 1\n",
            "Please enter the number: 4\n",
            "Please enter the number: 6\n",
            "Please enter the number: 9\n",
            "Please enter the number: 0\n",
            "The largest number is :  9\n"
          ],
          "name": "stdout"
        }
      ]
    },
    {
      "cell_type": "code",
      "metadata": {
        "colab": {
          "base_uri": "https://localhost:8080/"
        },
        "id": "406Tn5bGEKHf",
        "outputId": "9ccf1ec0-2f46-467d-b38b-09cc8a4acbba"
      },
      "source": [
        "array"
      ],
      "execution_count": null,
      "outputs": [
        {
          "output_type": "execute_result",
          "data": {
            "text/plain": [
              "[4, 7, 2, 9, 12]"
            ]
          },
          "metadata": {
            "tags": []
          },
          "execution_count": 3
        }
      ]
    },
    {
      "cell_type": "code",
      "metadata": {
        "id": "kMm0U5a_HAdR"
      },
      "source": [
        ""
      ],
      "execution_count": null,
      "outputs": []
    },
    {
      "cell_type": "markdown",
      "metadata": {
        "id": "BSkZqRUJHUE4"
      },
      "source": [
        "## Coding Challenge-2 : Group Anagrams\n",
        "\n",
        "Purpose of the this coding challenge is to solve a grouping algorithm in Python.\n",
        "\n",
        "### Learning Outcomes\n",
        "\n",
        "At the end of the this coding challenge, students will be able to;\n",
        "\n",
        "- get a basic understanding of grouping algorithms.\n",
        "- demonstrate their knowledge of lists, dicts in python\n",
        "- implement loops to solve the problems in python\n",
        "- get a better understanding of computational thinking concepts\n",
        "\n",
        "### Problem Statement\n",
        "  \n",
        "- Given a list of strings, group anagrams together.\n",
        "\n",
        "- Example:\n",
        "\n",
        "**Input:**\n",
        "```\n",
        "[\"eat\", \"tea\", \"tan\", \"ate\", \"nat\", \"bat\"],\n",
        "Output:\n",
        "[\n",
        "  [\"ate\",\"eat\",\"tea\"],\n",
        "  [\"nat\",\"tan\"],\n",
        "  [\"bat\"]\n",
        "]\n",
        "```\n",
        "Note:\n",
        "All inputs will be in lowercase.\n",
        "The order of your output does not matter."
      ]
    },
    {
      "cell_type": "markdown",
      "metadata": {
        "id": "p_9yk4jfHUE5"
      },
      "source": [
        "### Solution :"
      ]
    },
    {
      "cell_type": "code",
      "metadata": {
        "id": "4zuUcxk0HUE6",
        "colab": {
          "base_uri": "https://localhost:8080/"
        },
        "outputId": "bd4dec41-2f20-44f7-d535-b4fff103a7bb"
      },
      "source": [
        "strs = [\"eat\", \"tea\", \"tan\", \"ate\", \"nat\", \"bat\", \"cat\", \"tac\"]\n",
        "anag = {}\n",
        "for i in strs:\n",
        "    element = \"\".join(sorted(i))\n",
        "    if element in anag:\n",
        "        anag[element].append(i)\n",
        "    else:\n",
        "        anag[element] = [i]\n",
        "print(list(anag.values()))\n",
        "print(anag)"
      ],
      "execution_count": null,
      "outputs": [
        {
          "output_type": "stream",
          "text": [
            "[['eat', 'tea', 'ate'], ['tan', 'nat'], ['bat'], ['cat', 'tac']]\n",
            "{'aet': ['eat', 'tea', 'ate'], 'ant': ['tan', 'nat'], 'abt': ['bat'], 'act': ['cat', 'tac']}\n"
          ],
          "name": "stdout"
        }
      ]
    },
    {
      "cell_type": "code",
      "metadata": {
        "colab": {
          "base_uri": "https://localhost:8080/"
        },
        "id": "eBB2SljwHD_F",
        "outputId": "859c64c2-b70f-4696-db2a-00168ce33738"
      },
      "source": [
        "# Ekstra sorular\n",
        "def yan_yana_mi(liste):\n",
        "  for i in liste:\n",
        "    if liste.index('Arif')+1 == liste.index('Raif') or liste.index('Arif') == liste.index('Raif') +1:\n",
        "      return True\n",
        "    else:\n",
        "      return False\n",
        "print(yan_yana_mi([\"Arif\",\"Raif\",\"Nihal\"]))\n",
        "print(yan_yana_mi([\"Arif\",\"Nihal\",\"Raif\"]))"
      ],
      "execution_count": null,
      "outputs": [
        {
          "output_type": "stream",
          "text": [
            "True\n",
            "False\n"
          ],
          "name": "stdout"
        }
      ]
    },
    {
      "cell_type": "code",
      "metadata": {
        "colab": {
          "base_uri": "https://localhost:8080/",
          "height": 35
        },
        "id": "siAL5-3mHKdO",
        "outputId": "2f8e6a87-f548-4358-81ba-50785c770797"
      },
      "source": [
        "def geri_say(n, yazi):\n",
        "  sonuc = ''\n",
        "  for i in range(n,0,-1):\n",
        "    sonuc += str(i) + '*'\n",
        "  sonuc+= yazi.upper() + '!'\n",
        "  return sonuc\n",
        "geri_say(3,\"go\")"
      ],
      "execution_count": null,
      "outputs": [
        {
          "output_type": "execute_result",
          "data": {
            "application/vnd.google.colaboratory.intrinsic+json": {
              "type": "string"
            },
            "text/plain": [
              "'3*2*1*GO!'"
            ]
          },
          "metadata": {
            "tags": []
          },
          "execution_count": 14
        }
      ]
    },
    {
      "cell_type": "code",
      "metadata": {
        "colab": {
          "base_uri": "https://localhost:8080/"
        },
        "id": "HYyZ8MPJKBSz",
        "outputId": "70564962-742e-4007-cd9c-557ec79e8ff7"
      },
      "source": [
        "def harf_sayi_sayisi(cümle):\n",
        "  h = 0\n",
        "  s = 0\n",
        "  d = 0\n",
        "  for i in cümle:\n",
        "    if i.isalpha():\n",
        "      h+=1\n",
        "    elif i.isdigit():\n",
        "      s+=1\n",
        "    else:\n",
        "      d +=1\n",
        "  return f'Harfler: {h}, sayılar {s}, diğerleri {d}'\n",
        "print(harf_sayi_sayisi(\"10'a kadar saysam ve sonrasında hayat bayram olsa.\"))"
      ],
      "execution_count": null,
      "outputs": [
        {
          "output_type": "stream",
          "text": [
            "Harfler: 39, sayılar 2, diğerleri 9\n"
          ],
          "name": "stdout"
        }
      ]
    },
    {
      "cell_type": "code",
      "metadata": {
        "colab": {
          "base_uri": "https://localhost:8080/",
          "height": 35
        },
        "id": "JuPklsEAKtny",
        "outputId": "3deaf93a-26c6-4f73-991e-96a738e97ee9"
      },
      "source": [
        "def sessiz_yap(cumle):\n",
        "  sesli = 'aeıioöuüAEIİOÖUÜ'\n",
        "  for i in cumle:\n",
        "    if i in sesli:\n",
        "      cumle = cumle.replace(i, '')\n",
        "  return cumle\n",
        "sessiz_yap(\"Hayat beni neden yoruyosun?:)\")"
      ],
      "execution_count": null,
      "outputs": [
        {
          "output_type": "execute_result",
          "data": {
            "application/vnd.google.colaboratory.intrinsic+json": {
              "type": "string"
            },
            "text/plain": [
              "'Hyt bn ndn yrysn?:)'"
            ]
          },
          "metadata": {
            "tags": []
          },
          "execution_count": 17
        }
      ]
    },
    {
      "cell_type": "code",
      "metadata": {
        "colab": {
          "base_uri": "https://localhost:8080/"
        },
        "id": "NhRlrw_8KR49",
        "outputId": "890e81eb-c19d-4927-cbf0-b2a89b508546"
      },
      "source": [
        "def buyuk_kucuk(yazi):\n",
        "  if yazi.lower() == yazi or yazi.upper() == yazi :\n",
        "    return True\n",
        "  else:\n",
        "    return False\n",
        "buyuk_kucuk('RAIFE',)"
      ],
      "execution_count": null,
      "outputs": [
        {
          "output_type": "execute_result",
          "data": {
            "text/plain": [
              "True"
            ]
          },
          "metadata": {
            "tags": []
          },
          "execution_count": 20
        }
      ]
    },
    {
      "cell_type": "markdown",
      "metadata": {
        "id": "orFavV-SHUE8"
      },
      "source": [
        "## (optional) Coding Challenge - 3: Calculating the Amount of Water to be Trapped on Terrain\n",
        "\n",
        "\n",
        "The purpose of this coding challenge is to write a program that calculates the amount of water that can be contained within the generated holes.\n",
        "\n",
        "### Learning Outcomes\n",
        "\n",
        "At the end of this coding challenge, students will be able to;\n",
        "\n",
        "- analyze a problem, identify, and apply programming knowledge for appropriate solution.\n",
        "\n",
        "- design, implement `while` loops effectively in Python to solve the given problem.\n",
        "\n",
        "- control loops effectively by using `if` and `control` statements.\n",
        "\n",
        "- demonstrate their knowledge of algorithmic design principles by using solving the problem effectively.\n",
        "\n",
        "### Problem Statement\n",
        "\n",
        "- Given an array of non-negative integers representing an elevation map as shown below where the width of each bar is 1, compute how much water will be trapped on terrain after raining. To clarify further, the black boxes represents terrain and its height, and the blue boxes represents the water that could be trapped on the terrain.\n",
        "\n",
        "<center><img src=\"https://raw.githubusercontent.com/andrewfade/myprojects/main/image.png\" /></center>\n",
        "\n",
        "- User can enter as many numbers as they want to represent elevation of the terrain.\n",
        "\n",
        "- You can assume all the inputs are valid, thus you don't have to do an input check.\n",
        "\n",
        "- At the end of the program write a comment that indicates which computational thinking heuristics you have used and how you used them.\n",
        "\n",
        "- Example of user inputs and respective outputs.\n",
        "\n",
        "```text\n",
        "Inputs\n",
        "------------------------------\n",
        "Type 'ok' when you are done: 5\n",
        "Type 'ok' when you are done: 4\n",
        "Type 'ok' when you are done: 5\n",
        "Type 'ok' when you are done: ok\n",
        "\n",
        "Output\n",
        "------\n",
        "1\n",
        "\n",
        "Inputs\n",
        "------------------------------\n",
        "Type 'ok' when you are done: 2\n",
        "Type 'ok' when you are done: 1\n",
        "Type 'ok' when you are done: 2\n",
        "Type 'ok' when you are done: 3\n",
        "Type 'ok' when you are done: 2\n",
        "Type 'ok' when you are done: 3\n",
        "Type 'ok' when you are done: ok\n",
        "\n",
        "Output\n",
        "------\n",
        "2\n",
        "\n",
        "Inputs\n",
        "------------------------------\n",
        "Type 'ok' when you are done: 6\n",
        "Type 'ok' when you are done: 5\n",
        "Type 'ok' when you are done: 8\n",
        "Type 'ok' when you are done: 9\n",
        "Type 'ok' when you are done: 2\n",
        "Type 'ok' when you are done: 4\n",
        "Type 'ok' when you are done: 3\n",
        "Type 'ok' when you are done: 6\n",
        "Type 'ok' when you are done: ok\n",
        "\n",
        "Output\n",
        "------\n",
        "10\n",
        "```"
      ]
    },
    {
      "cell_type": "markdown",
      "metadata": {
        "id": "O1-u-UztHZTF"
      },
      "source": [
        ""
      ]
    },
    {
      "cell_type": "markdown",
      "metadata": {
        "id": "N32-yFxFHUE_"
      },
      "source": [
        "### Solution :"
      ]
    },
    {
      "cell_type": "code",
      "metadata": {
        "colab": {
          "base_uri": "https://localhost:8080/"
        },
        "id": "x83FUWzpzk3z",
        "outputId": "3b17ec73-cb60-4e8b-f31c-e7dd7407c8bf"
      },
      "source": [
        "\n",
        "height = []\n",
        "while True:\n",
        "    num = input(\"Type 'ok' when you are done: \")\n",
        "    if num != \"ok\":\n",
        "        height.append(int(num))\n",
        "    else:\n",
        "        break\n",
        "areas = 0\n",
        "max_l = max_r = 0\n",
        "l = 0\n",
        "r = len(height)-1\n",
        "while l < r:\n",
        "    if height[l] < height[r]:\n",
        "        if height[l] > max_l:\n",
        "            max_l = height[l]\n",
        "        else:\n",
        "            areas += max_l - height[l]\n",
        "        l += 1\n",
        "    else:\n",
        "        if height[r] > max_r:\n",
        "            max_r = height[r]\n",
        "        else:\n",
        "            areas += max_r - height[r]\n",
        "        r -= 1\n",
        "print(\"\\nRain-trapped area : \", areas)"
      ],
      "execution_count": null,
      "outputs": [
        {
          "output_type": "stream",
          "text": [
            "Type 'ok' when you are done: 5\n",
            "Type 'ok' when you are done: 7\n",
            "Type 'ok' when you are done: 9\n",
            "Type 'ok' when you are done: 0\n",
            "Type 'ok' when you are done: 8\n",
            "Type 'ok' when you are done: ok\n",
            "\n",
            "Rain-trapped area :  8\n"
          ],
          "name": "stdout"
        }
      ]
    },
    {
      "cell_type": "code",
      "metadata": {
        "id": "LJKRDS_WHUFC",
        "colab": {
          "base_uri": "https://localhost:8080/"
        },
        "outputId": "0e22a3f2-50d5-499b-eaef-7c957a22a414"
      },
      "source": [
        "# initialize the list of an integer array representing the elevation, and set it to empty\n",
        "height = []\n",
        "# Unless user types `ok`, get input of numbers from the user\n",
        "while True:\n",
        "    num = input(\"Type 'ok' when you are done: \")\n",
        "    # if the input is not equal to `ok`, add the input number to the height array\n",
        "    if num != \"ok\":\n",
        "        height.append(int(num))\n",
        "    # if the input equals to `ok`, get out of the while loop\n",
        "    else:\n",
        "        break\n",
        "# initialize areas which holds total amount of water to be trapped, and set to 0\n",
        "areas = 0\n",
        "# initialize maximum left and right, and set to 0\n",
        "max_l = max_r = 0\n",
        "# initialize left, and set to 0\n",
        "l = 0\n",
        "# initialize right and set to the last index of the input array\n",
        "r = len(height)-1\n",
        "# unless the current position of the height on left\n",
        "# is not greater than the one on right, run the loop\n",
        "while l < r:\n",
        "    # if the current position on left is lower than the right,\n",
        "    # max level on left determines the amount of water to be trapped.\n",
        "    if height[l] < height[r]:\n",
        "        # if the current height on left is greater than max height on left\n",
        "        # then the water not to be trapped, and set the max height to the new max\n",
        "        if height[l] > max_l:\n",
        "            max_l = height[l]\n",
        "        # otherwise, add the amount of water to be trapped.\n",
        "        else:\n",
        "            areas += max_l - height[l]\n",
        "        # increase current position on left by one\n",
        "        l += 1\n",
        "    # if the current position on left is higher than the right,\n",
        "    # max level on right determines the amount of water to be trapped.\n",
        "    else:\n",
        "        # if the current height on right is greater than max height on height\n",
        "        # then the water not to be trapped, and set the max height to the new max\n",
        "        if height[r] > max_r:\n",
        "            max_r = height[r]\n",
        "        # otherwise, add the amount of water to be trapped.\n",
        "        else:\n",
        "            areas += max_r - height[r]\n",
        "        # decrease current position on right by one\n",
        "        r -= 1\n",
        "# print the amount of water to be trapped\n",
        "print(\"\\nRain-trapped area : \", areas)"
      ],
      "execution_count": null,
      "outputs": [
        {
          "output_type": "stream",
          "text": [
            "Type 'ok' when you are done: 2\n",
            "Type 'ok' when you are done: 0\n",
            "Type 'ok' when you are done: 2\n",
            "Type 'ok' when you are done: 1\n",
            "Type 'ok' when you are done: 3\n",
            "Type 'ok' when you are done: 0\n",
            "Type 'ok' when you are done: 0\n",
            "Type 'ok' when you are done: 2\n",
            "Type 'ok' when you are done: ok\n",
            "\n",
            "Rain-trapped area :  7\n"
          ],
          "name": "stdout"
        }
      ]
    },
    {
      "cell_type": "code",
      "metadata": {
        "id": "SS8rtjG7HUFE",
        "colab": {
          "base_uri": "https://localhost:8080/"
        },
        "outputId": "86de9b21-21bc-4e85-aaae-b29e0b8ce663"
      },
      "source": [
        "# 2.Çözüm\n",
        "liste=[]\n",
        "while True:\n",
        "  a=input(\"Type 'ok' when you are done: \")\n",
        "  if a.isdigit():\n",
        "    liste.append(int(a))\n",
        "  else: \n",
        "    break\n",
        "k=0\n",
        "toplam=0\n",
        "for i in range(1,len(liste)-1):\n",
        "    k = min(max(liste[i+1:]), max(liste[(i-1)::-1]))\n",
        "    if liste[i] < k:\n",
        "      toplam += k - liste[i]\n",
        "print(toplam)"
      ],
      "execution_count": null,
      "outputs": [
        {
          "output_type": "stream",
          "text": [
            "Type 'ok' when you are done: 3\n",
            "Type 'ok' when you are done: 1\n",
            "Type 'ok' when you are done: 5\n",
            "Type 'ok' when you are done: 2\n",
            "Type 'ok' when you are done: 7\n",
            "Type 'ok' when you are done: ok\n",
            "5\n"
          ],
          "name": "stdout"
        }
      ]
    },
    {
      "cell_type": "code",
      "metadata": {
        "colab": {
          "base_uri": "https://localhost:8080/"
        },
        "id": "6x07WhDfbQX9",
        "outputId": "6dba2b94-806b-4237-c9cf-a9a7a5ecc3d1"
      },
      "source": [
        "a = \"\" \n",
        "b = \"\"\n",
        "c = 0\n",
        "while True:\n",
        "  num = input(\"Type 'ok' when you are done : \")\n",
        "  if num == \"ok\":\n",
        "    break\n",
        "  else:\n",
        "    a += num\n",
        "a = a.strip(\"0\")\n",
        "c += a.count(\"0\")\n",
        "while a.strip(\"0\") != \"\":\n",
        "  for i in a:\n",
        "    if int(i) > 0:\n",
        "      b += str(int(i)-1)\n",
        "    if i == \"0\":\n",
        "      b += \"0\"\n",
        "  a = b.strip(\"0\")\n",
        "  c += a.count(\"0\")\n",
        "  b = \"\"\n",
        "print(c)"
      ],
      "execution_count": null,
      "outputs": [
        {
          "output_type": "stream",
          "text": [
            "Type 'ok' when you are done : 2\n",
            "Type 'ok' when you are done : 0\n",
            "Type 'ok' when you are done : 2\n",
            "Type 'ok' when you are done : ok\n",
            "2\n"
          ],
          "name": "stdout"
        }
      ]
    },
    {
      "cell_type": "code",
      "metadata": {
        "id": "W5JsQ-LN24On"
      },
      "source": [
        "a = len(7)"
      ],
      "execution_count": null,
      "outputs": []
    }
  ]
}