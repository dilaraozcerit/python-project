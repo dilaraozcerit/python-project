{
  "nbformat": 4,
  "nbformat_minor": 0,
  "metadata": {
    "colab": {
      "name": "Prime numbers",
      "provenance": [],
      "authorship_tag": "ABX9TyN7ky7F4B6QWlim9oFcL2Ux",
      "include_colab_link": true
    },
    "kernelspec": {
      "name": "python3",
      "display_name": "Python 3"
    },
    "language_info": {
      "name": "python"
    }
  },
  "cells": [
    {
      "cell_type": "markdown",
      "metadata": {
        "id": "view-in-github",
        "colab_type": "text"
      },
      "source": [
        "<a href=\"https://colab.research.google.com/github/dilaraozcerit/python-project/blob/main/Prime_numbers.ipynb\" target=\"_parent\"><img src=\"https://colab.research.google.com/assets/colab-badge.svg\" alt=\"Open In Colab\"/></a>"
      ]
    },
    {
      "cell_type": "code",
      "metadata": {
        "id": "Lq5hIdSJmgJ5"
      },
      "source": [
        "n = int(input(\"Please enter a number : \"))\n",
        "primes = []\n",
        "for a in range(2, n):\n",
        "  isPrime = True\n",
        "  for i in range (2, a):\n",
        "      if a % i == 0:\n",
        "       isPrime = False\n",
        "  if isPrime:\n",
        "   primes.append(a)\n",
        "\n",
        "print(primes)"
      ],
      "execution_count": null,
      "outputs": []
    }
  ]
}